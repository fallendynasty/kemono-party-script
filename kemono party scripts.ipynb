{
 "cells": [
  {
   "cell_type": "code",
   "execution_count": null,
   "id": "f27c932e",
   "metadata": {},
   "outputs": [],
   "source": [
    "from lxml import html\n",
    "import requests, zipfile, io, os\n",
    "\n",
    "\n",
    "def get_file(i, link):\n",
    "    if not os.path.exists(f\"C:/Users/howar/Downloads/homework/metal owl/{i}\"):\n",
    "        os.makedirs(f\"C:/Users/howar/Downloads/homework/metal owl/{i}\")\n",
    "    r = requests.get(link)\n",
    "    z = zipfile.ZipFile(io.BytesIO(r.content))\n",
    "    z.extractall(f\"C:/Users/howar/Downloads/homework/metal owl/{i}\")\n",
    "\n",
    "set_of_offset = set()\n",
    "list_of_posts = []\n",
    "list_of_links = []\n",
    "\n",
    "page = requests.get('https://kemono.su/fanbox/user/1899477')\n",
    "webpage = html.fromstring(page.content)\n",
    "\n",
    "for link in webpage.xpath('//a/@href'):\n",
    "    if '?o=' in link:\n",
    "        set_of_offset.add(link)\n",
    "    if 'post' in link and 'user' in link and 'upload' not in link:\n",
    "        list_of_posts.append(link)\n",
    "\n",
    "\n",
    "for offset in range(50, 50*len(set_of_offset), 50):\n",
    "    page = requests.get(f'https://kemono.su/fanbox/user/1899477?o={offset}')\n",
    "    webpage = html.fromstring(page.content)\n",
    "    for link in webpage.xpath('//a/@href'):\n",
    "        if 'post' in link and 'user' in link and 'upload' not in link:\n",
    "            list_of_posts.append(link)\n",
    "    print(offset)\n",
    "    \n",
    "count = 0  \n",
    "for post in list_of_posts:\n",
    "    page = requests.get(f'https://kemono.su{post}')\n",
    "    webpage = html.fromstring(page.content)\n",
    "    for link in webpage.xpath('//a/@href'):\n",
    "        if '.zip' in link:\n",
    "            list_of_links.append(link) \n",
    "    print(post, count)\n",
    "    count+=1\n",
    "            \n",
    "for i, link in enumerate(list_of_links):\n",
    "    get_file(i, link)\n",
    "    print(i)"
   ]
  }
 ],
 "metadata": {
  "kernelspec": {
   "display_name": "Python 3 (ipykernel)",
   "language": "python",
   "name": "python3"
  },
  "language_info": {
   "codemirror_mode": {
    "name": "ipython",
    "version": 3
   },
   "file_extension": ".py",
   "mimetype": "text/x-python",
   "name": "python",
   "nbconvert_exporter": "python",
   "pygments_lexer": "ipython3",
   "version": "3.9.7"
  }
 },
 "nbformat": 4,
 "nbformat_minor": 5
}
